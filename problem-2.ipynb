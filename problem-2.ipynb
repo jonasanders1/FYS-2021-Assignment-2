{
 "cells": [
  {
   "cell_type": "markdown",
   "metadata": {},
   "source": [
    "### 2a) Load the data and report general information from the data (+Histogram)"
   ]
  },
  {
   "cell_type": "code",
   "execution_count": 8,
   "metadata": {},
   "outputs": [
    {
     "name": "stdout",
     "output_type": "stream",
     "text": [
      "<class 'pandas.core.frame.DataFrame'>\n",
      "RangeIndex: 2 entries, 0 to 1\n",
      "Columns: 3600 entries, 0 to 3599\n",
      "dtypes: float64(3600)\n",
      "memory usage: 56.4 KB\n",
      "None\n",
      "           0         1          2         3          4         5         6     \\\n",
      "count  2.000000  2.000000   2.000000  2.000000   2.000000  2.000000  2.000000   \n",
      "mean   4.951814  5.473387   7.729196  5.332286   7.706135  5.471006  3.595043   \n",
      "std    5.588709  6.326325   9.516520  6.126778   9.483907  6.322957  5.084159   \n",
      "min    1.000000  1.000000   1.000000  1.000000   1.000000  1.000000  0.000000   \n",
      "25%    2.975907  3.236694   4.364598  3.166143   4.353067  3.235503  1.797522   \n",
      "50%    4.951814  5.473387   7.729196  5.332286   7.706135  5.471006  3.595043   \n",
      "75%    6.927721  7.710081  11.093794  7.498429  11.059202  7.706509  5.392565   \n",
      "max    8.903629  9.946774  14.458392  9.664572  14.412270  9.942011  7.190087   \n",
      "\n",
      "           7         8          9     ...      3590      3591      3592  \\\n",
      "count  2.000000  2.000000   2.000000  ...  2.000000  2.000000  2.000000   \n",
      "mean   1.511468  1.257715   8.002593  ...  1.751098  4.267586  3.147269   \n",
      "std    2.137538  1.778677   9.903162  ...  2.476427  6.035278  4.450910   \n",
      "min    0.000000  0.000000   1.000000  ...  0.000000  0.000000  0.000000   \n",
      "25%    0.755734  0.628857   4.501297  ...  0.875549  2.133793  1.573634   \n",
      "50%    1.511468  1.257715   8.002593  ...  1.751098  4.267586  3.147269   \n",
      "75%    2.267202  1.886572  11.503890  ...  2.626647  6.401379  4.720903   \n",
      "max    3.022935  2.515430  15.005186  ...  3.502196  8.535172  6.294537   \n",
      "\n",
      "           3593       3594      3595      3596       3597       3598      3599  \n",
      "count  2.000000   2.000000  2.000000  2.000000   2.000000   2.000000  2.000000  \n",
      "mean   2.091135   6.317339  2.577753  5.331371   6.875945   5.653996  3.817491  \n",
      "std    2.957311   7.519854  3.645494  6.125484   8.309842   6.581744  3.984535  \n",
      "min    0.000000   1.000000  0.000000  1.000000   1.000000   1.000000  1.000000  \n",
      "25%    1.045567   3.658670  1.288877  3.165686   3.937973   3.326998  2.408746  \n",
      "50%    2.091135   6.317339  2.577753  5.331371   6.875945   5.653996  3.817491  \n",
      "75%    3.136702   8.976009  3.866630  7.497057   9.813918   7.980993  5.226237  \n",
      "max    4.182270  11.634679  5.155507  9.662742  12.751891  10.307991  6.634983  \n",
      "\n",
      "[8 rows x 3600 columns]\n",
      "       0         1          2         3         4         5         6     \\\n",
      "0  8.903629  9.946774  14.458392  9.664572  14.41227  9.942011  7.190087   \n",
      "1  1.000000  1.000000   1.000000  1.000000   1.00000  1.000000  0.000000   \n",
      "\n",
      "       7        8          9     ...      3590      3591      3592     3593  \\\n",
      "0  3.022935  2.51543  15.005186  ...  3.502196  8.535172  6.294537  4.18227   \n",
      "1  0.000000  0.00000   1.000000  ...  0.000000  0.000000  0.000000  0.00000   \n",
      "\n",
      "        3594      3595      3596       3597       3598      3599  \n",
      "0  11.634679  5.155507  9.662742  12.751891  10.307991  6.634983  \n",
      "1   1.000000  0.000000  1.000000   1.000000   1.000000  1.000000  \n",
      "\n",
      "[2 rows x 3600 columns]\n"
     ]
    },
    {
     "data": {
      "image/png": "[encoded data removed]",
      "text/plain": [
       "<Figure size 800x600 with 1 Axes>"
      ]
     },
     "metadata": {},
     "output_type": "display_data"
    }
   ],
   "source": [
    "import pandas as pd\n",
    "import matplotlib.pyplot as plt\n",
    "\n",
    "# load the data\n",
    "data = pd.read_csv('data_problem2.csv', header=None, delimiter=',')\n",
    "\n",
    "print(data.info())\n",
    "print(data.describe())\n",
    "print(data.head())\n",
    "\n",
    "# Splitting the data into features and labels\n",
    "features = data.iloc[0, :]  \n",
    "labels = data.iloc[1, :] \n",
    "\n",
    "class_0_features = features[labels == 0].values.flatten()  # Features for class 0\n",
    "class_1_features = features[labels == 1].values.flatten()  # Features for class 1\n",
    "\n",
    "# Plot the histogram\n",
    "plt.figure(figsize=(8, 6))\n",
    "# blue color for Class 0\n",
    "plt.hist(class_0_features, bins=30, alpha=0.5, label='Class 0', color='blue', edgecolor='black')\n",
    "# red color for Class 0\n",
    "plt.hist(class_1_features, bins=30, alpha=0.5, label='Class 1', color='red', edgecolor='black')\n",
    "\n",
    "plt.title('Histogram of Features by Class')\n",
    "plt.xlabel('Feature Values')\n",
    "plt.ylabel('Frequency')\n",
    "plt.legend()\n",
    "plt.show()"
   ]
  },
  {
   "cell_type": "markdown",
   "metadata": {},
   "source": [
    "### 2c) \n",
    "Split the data into training and test data.Use the maximum likelihood estimations to estimate the\n",
    "parameters based on the training data. Use the point-estimations of the parameters to implement a Bayes’\n",
    "classifier. Report the test accuracy.\n"
   ]
  },
  {
   "cell_type": "code",
   "execution_count": 17,
   "metadata": {},
   "outputs": [
    {
     "name": "stdout",
     "output_type": "stream",
     "text": [
      "Test Accuracy: 91.25%\n"
     ]
    }
   ],
   "source": [
    "import numpy as np\n",
    "from sklearn.model_selection import train_test_split\n",
    "from sklearn.metrics import accuracy_score\n",
    "from scipy.stats import gamma, norm\n",
    "\n",
    "# Splitting data\n",
    "X_train, X_test, y_train, y_test = train_test_split(features.T, labels.T, test_size=0.2, random_state=42)\n",
    "\n",
    "\n",
    "# Splitting the training data into two classes\n",
    "X_train_class_0 = X_train[y_train == 0]  # Features for class 0\n",
    "X_train_class_1 = X_train[y_train == 1]  # Features for class 1\n",
    "\n",
    "# Maximum likelihood estiamtio for Gamma distribution\n",
    "# (Class 0)\n",
    "alpha = 2  # Given in the task\n",
    "beta_class_0 = np.mean(X_train_class_0, axis=0) / alpha\n",
    "\n",
    "# Maximum likelihood estimation for Gaussian distribution (Class 1)\n",
    "mu_class_1 = np.mean(X_train_class_1, axis=0)\n",
    "sigma2_class_1 = np.var(X_train_class_1, axis=0)\n",
    "\n",
    "# Bayes classifier implementation\n",
    "def bayes_classifier(X_test, mu_class_1, sigma2_class_1, beta_class_0, alpha):\n",
    "    predictions = []\n",
    "    \n",
    "    for x in X_test:\n",
    "        # Compute Gamma likelihood for Class 0\n",
    "        gamma_likelihood = np.prod(gamma.pdf(x, a=alpha, scale=beta_class_0))\n",
    "        \n",
    "        # Compute Gaussian likelihood for Class 1\n",
    "        gaussian_likelihood = np.prod(norm.pdf(x, loc=mu_class_1, scale=np.sqrt(sigma2_class_1)))\n",
    "        \n",
    "        # Classify based on the higher likelihood\n",
    "        if gamma_likelihood > gaussian_likelihood:\n",
    "            predictions.append(0)\n",
    "        else:\n",
    "            predictions.append(1)\n",
    "    \n",
    "    return np.array(predictions)\n",
    "\n",
    "# Predict the labels for the test set\n",
    "y_train_pred = bayes_classifier(X_train, mu_class_1, sigma2_class_1, beta_class_0, alpha)\n",
    "y_test_pred = bayes_classifier(X_test, mu_class_1, sigma2_class_1, beta_class_0, alpha)\n",
    "\n",
    "\n",
    "\n",
    "\n",
    "# Function to calculate accuracy\n",
    "def calculate_accuracy(y_true, y_pred):\n",
    "    correct = 0\n",
    "    total = len(y_true)\n",
    "    \n",
    "    # Check to see if y_true and y_pred are numpy arrays\n",
    "    y_true = y_true.values if isinstance(y_true, pd.Series) else y_true\n",
    "    y_pred = y_pred.values if isinstance(y_pred, pd.Series) else y_pred\n",
    "    \n",
    "    # looping over all the true labels\n",
    "    for i in range(total):\n",
    "        if y_true[i] == y_pred[i]:\n",
    "            correct += 1\n",
    "    \n",
    "    accuracy = correct / total\n",
    "    return accuracy\n",
    "\n",
    "\n",
    "# Calculate and report test accuracy\n",
    "test_accuracy = calculate_accuracy(y_test, y_test_pred)\n",
    "print(f'Test Accuracy: {test_accuracy * 100:.2f}%')\n",
    "\n"
   ]
  },
  {
   "cell_type": "code",
   "execution_count": null,
   "metadata": {},
   "outputs": [],
   "source": []
  }
 ],
 "metadata": {
  "kernelspec": {
   "display_name": "venv",
   "language": "python",
   "name": "python3"
  },
  "language_info": {
   "codemirror_mode": {
    "name": "ipython",
    "version": 3
   },
   "file_extension": ".py",
   "mimetype": "text/x-python",
   "name": "python",
   "nbconvert_exporter": "python",
   "pygments_lexer": "ipython3",
   "version": "3.12.4"
  }
 },
 "nbformat": 4,
 "nbformat_minor": 2
}
